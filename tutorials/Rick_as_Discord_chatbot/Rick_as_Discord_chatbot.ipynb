{
 "cells": [
  {
   "cell_type": "markdown",
   "metadata": {},
   "source": [
    "Source: https://www.youtube.com/watch?v=UjDpW_SOrlw&ab_channel=freeCodeCamp.org"
   ]
  },
  {
   "cell_type": "code",
   "execution_count": 4,
   "metadata": {},
   "outputs": [
    {
     "name": "stderr",
     "output_type": "stream",
     "text": [
      "2023-06-10 14:37:25.790458: I tensorflow/core/util/port.cc:110] oneDNN custom operations are on. You may see slightly different numerical results due to floating-point round-off errors from different computation orders. To turn them off, set the environment variable `TF_ENABLE_ONEDNN_OPTS=0`.\n",
      "2023-06-10 14:37:28.658140: I tensorflow/core/platform/cpu_feature_guard.cc:182] This TensorFlow binary is optimized to use available CPU instructions in performance-critical operations.\n",
      "To enable the following instructions: AVX2 AVX512F AVX512_VNNI FMA, in other operations, rebuild TensorFlow with the appropriate compiler flags.\n",
      "2023-06-10 14:37:35.754107: W tensorflow/compiler/tf2tensorrt/utils/py_utils.cc:38] TF-TRT Warning: Could not find TensorRT\n"
     ]
    }
   ],
   "source": [
    "\n",
    "import glob\n",
    "import logging\n",
    "import os\n",
    "import pickle\n",
    "import random\n",
    "import re\n",
    "import shutil\n",
    "from typing import Dict, List, Tuple\n",
    "\n",
    "import numpy as np\n",
    "import pandas as pd\n",
    "\n",
    "from sklearn.model_selection import train_test_split\n",
    "\n",
    "from torch.nn.utils.rnn import pad_sequence\n",
    "from torch.utils.data import DataLoader, Dataset, RandomSampler, SequentialSampler\n",
    "from torch.utils.data.distributed import DistributedSampler\n",
    "from tqdm.notebook import tqdm, trange\n",
    "\n",
    "from pathlib import Path\n",
    "\n",
    "from transformers import (\n",
    "    MODEL_WITH_LM_HEAD_MAPPING,\n",
    "    WEIGHTS_NAME,\n",
    "    AdamW,\n",
    "    AutoConfig,\n",
    "    PreTrainedModel,\n",
    "    PreTrainedTokenizer,\n",
    "    get_linear_schedule_with_warmup,\n",
    ")\n",
    "\n",
    "\n",
    "try:\n",
    "    from torch.utils.tensorboard import SummaryWriter\n",
    "except ImportError:\n",
    "    from tensorboardX import SummaryWriter"
   ]
  },
  {
   "cell_type": "code",
   "execution_count": 2,
   "metadata": {},
   "outputs": [],
   "source": [
    "DATA_FILE = \"../../input/RickAndMortyScripts.csv\"\n",
    "assert os.path.isfile(DATA_FILE)"
   ]
  },
  {
   "cell_type": "code",
   "execution_count": 7,
   "metadata": {},
   "outputs": [],
   "source": [
    "df = pd.read_csv(DATA_FILE)"
   ]
  },
  {
   "cell_type": "code",
   "execution_count": 8,
   "metadata": {},
   "outputs": [
    {
     "data": {
      "text/html": [
       "<div>\n",
       "<style scoped>\n",
       "    .dataframe tbody tr th:only-of-type {\n",
       "        vertical-align: middle;\n",
       "    }\n",
       "\n",
       "    .dataframe tbody tr th {\n",
       "        vertical-align: top;\n",
       "    }\n",
       "\n",
       "    .dataframe thead th {\n",
       "        text-align: right;\n",
       "    }\n",
       "</style>\n",
       "<table border=\"1\" class=\"dataframe\">\n",
       "  <thead>\n",
       "    <tr style=\"text-align: right;\">\n",
       "      <th></th>\n",
       "      <th>index</th>\n",
       "      <th>season no.</th>\n",
       "      <th>episode no.</th>\n",
       "      <th>episode name</th>\n",
       "      <th>name</th>\n",
       "      <th>line</th>\n",
       "    </tr>\n",
       "  </thead>\n",
       "  <tbody>\n",
       "    <tr>\n",
       "      <th>0</th>\n",
       "      <td>0</td>\n",
       "      <td>1</td>\n",
       "      <td>1</td>\n",
       "      <td>Pilot</td>\n",
       "      <td>Rick</td>\n",
       "      <td>Morty! You gotta come on. Jus'... you gotta co...</td>\n",
       "    </tr>\n",
       "    <tr>\n",
       "      <th>1</th>\n",
       "      <td>1</td>\n",
       "      <td>1</td>\n",
       "      <td>1</td>\n",
       "      <td>Pilot</td>\n",
       "      <td>Morty</td>\n",
       "      <td>What, Rick? What’s going on?</td>\n",
       "    </tr>\n",
       "    <tr>\n",
       "      <th>2</th>\n",
       "      <td>2</td>\n",
       "      <td>1</td>\n",
       "      <td>1</td>\n",
       "      <td>Pilot</td>\n",
       "      <td>Rick</td>\n",
       "      <td>I got a surprise for you, Morty.</td>\n",
       "    </tr>\n",
       "    <tr>\n",
       "      <th>3</th>\n",
       "      <td>3</td>\n",
       "      <td>1</td>\n",
       "      <td>1</td>\n",
       "      <td>Pilot</td>\n",
       "      <td>Morty</td>\n",
       "      <td>It's the middle of the night. What are you tal...</td>\n",
       "    </tr>\n",
       "    <tr>\n",
       "      <th>4</th>\n",
       "      <td>4</td>\n",
       "      <td>1</td>\n",
       "      <td>1</td>\n",
       "      <td>Pilot</td>\n",
       "      <td>Rick</td>\n",
       "      <td>Come on, I got a surprise for you.  Come on, h...</td>\n",
       "    </tr>\n",
       "  </tbody>\n",
       "</table>\n",
       "</div>"
      ],
      "text/plain": [
       "   index  season no.  episode no. episode name   name  \\\n",
       "0      0           1            1        Pilot   Rick   \n",
       "1      1           1            1        Pilot  Morty   \n",
       "2      2           1            1        Pilot   Rick   \n",
       "3      3           1            1        Pilot  Morty   \n",
       "4      4           1            1        Pilot   Rick   \n",
       "\n",
       "                                                line  \n",
       "0  Morty! You gotta come on. Jus'... you gotta co...  \n",
       "1                       What, Rick? What’s going on?  \n",
       "2                   I got a surprise for you, Morty.  \n",
       "3  It's the middle of the night. What are you tal...  \n",
       "4  Come on, I got a surprise for you.  Come on, h...  "
      ]
     },
     "execution_count": 8,
     "metadata": {},
     "output_type": "execute_result"
    }
   ],
   "source": [
    "df.head()"
   ]
  },
  {
   "cell_type": "code",
   "execution_count": 9,
   "metadata": {},
   "outputs": [
    {
     "data": {
      "text/plain": [
       "Index(['index', 'season no.', 'episode no.', 'episode name', 'name', 'line'], dtype='object')"
      ]
     },
     "execution_count": 9,
     "metadata": {},
     "output_type": "execute_result"
    }
   ],
   "source": [
    "df.columns"
   ]
  },
  {
   "cell_type": "code",
   "execution_count": 10,
   "metadata": {},
   "outputs": [],
   "source": [
    "clean_df = df.drop(columns=['index', 'season no.', 'episode no.', 'episode name'])"
   ]
  },
  {
   "cell_type": "code",
   "execution_count": 11,
   "metadata": {},
   "outputs": [
    {
     "data": {
      "text/html": [
       "<div>\n",
       "<style scoped>\n",
       "    .dataframe tbody tr th:only-of-type {\n",
       "        vertical-align: middle;\n",
       "    }\n",
       "\n",
       "    .dataframe tbody tr th {\n",
       "        vertical-align: top;\n",
       "    }\n",
       "\n",
       "    .dataframe thead th {\n",
       "        text-align: right;\n",
       "    }\n",
       "</style>\n",
       "<table border=\"1\" class=\"dataframe\">\n",
       "  <thead>\n",
       "    <tr style=\"text-align: right;\">\n",
       "      <th></th>\n",
       "      <th>name</th>\n",
       "      <th>line</th>\n",
       "    </tr>\n",
       "  </thead>\n",
       "  <tbody>\n",
       "    <tr>\n",
       "      <th>0</th>\n",
       "      <td>Rick</td>\n",
       "      <td>Morty! You gotta come on. Jus'... you gotta co...</td>\n",
       "    </tr>\n",
       "    <tr>\n",
       "      <th>1</th>\n",
       "      <td>Morty</td>\n",
       "      <td>What, Rick? What’s going on?</td>\n",
       "    </tr>\n",
       "    <tr>\n",
       "      <th>2</th>\n",
       "      <td>Rick</td>\n",
       "      <td>I got a surprise for you, Morty.</td>\n",
       "    </tr>\n",
       "    <tr>\n",
       "      <th>3</th>\n",
       "      <td>Morty</td>\n",
       "      <td>It's the middle of the night. What are you tal...</td>\n",
       "    </tr>\n",
       "    <tr>\n",
       "      <th>4</th>\n",
       "      <td>Rick</td>\n",
       "      <td>Come on, I got a surprise for you.  Come on, h...</td>\n",
       "    </tr>\n",
       "  </tbody>\n",
       "</table>\n",
       "</div>"
      ],
      "text/plain": [
       "    name                                               line\n",
       "0   Rick  Morty! You gotta come on. Jus'... you gotta co...\n",
       "1  Morty                       What, Rick? What’s going on?\n",
       "2   Rick                   I got a surprise for you, Morty.\n",
       "3  Morty  It's the middle of the night. What are you tal...\n",
       "4   Rick  Come on, I got a surprise for you.  Come on, h..."
      ]
     },
     "execution_count": 11,
     "metadata": {},
     "output_type": "execute_result"
    }
   ],
   "source": [
    "clean_df.head()"
   ]
  },
  {
   "cell_type": "code",
   "execution_count": 17,
   "metadata": {},
   "outputs": [
    {
     "name": "stdout",
     "output_type": "stream",
     "text": [
      "1905\n",
      "420\n",
      "347\n"
     ]
    }
   ],
   "source": [
    "print(len(clean_df))\n",
    "print(sum(df['name']=='Rick'))\n",
    "print(sum(df['name']=='Morty'))\n"
   ]
  },
  {
   "cell_type": "code",
   "execution_count": 21,
   "metadata": {},
   "outputs": [],
   "source": [
    "# Create dialog with context, previous lines are context\n",
    "contexted = []\n",
    "\n",
    "context_size = 7\n",
    "CHARACTER_NAME = 'Rick'\n",
    "for i in clean_df[df.name==CHARACTER_NAME].index:\n",
    "    if i < context_size:\n",
    "        continue\n",
    "    row = []\n",
    "    prev = i - 1 -context_size\n",
    "    for j in range(i, prev, -1):\n",
    "        row.append(clean_df.line[j])\n",
    "    contexted.append(row)\n",
    "\n",
    "\n",
    "columns = ['response', 'context'] \n",
    "columns = columns + ['context/' + str(i) for i in range(context_size - 1)]\n",
    "\n",
    "df = pd.DataFrame.from_records(contexted, columns=columns)"
   ]
  },
  {
   "cell_type": "code",
   "execution_count": 22,
   "metadata": {},
   "outputs": [
    {
     "data": {
      "text/html": [
       "<div>\n",
       "<style scoped>\n",
       "    .dataframe tbody tr th:only-of-type {\n",
       "        vertical-align: middle;\n",
       "    }\n",
       "\n",
       "    .dataframe tbody tr th {\n",
       "        vertical-align: top;\n",
       "    }\n",
       "\n",
       "    .dataframe thead th {\n",
       "        text-align: right;\n",
       "    }\n",
       "</style>\n",
       "<table border=\"1\" class=\"dataframe\">\n",
       "  <thead>\n",
       "    <tr style=\"text-align: right;\">\n",
       "      <th></th>\n",
       "      <th>response</th>\n",
       "      <th>context</th>\n",
       "      <th>context/0</th>\n",
       "      <th>context/1</th>\n",
       "      <th>context/2</th>\n",
       "      <th>context/3</th>\n",
       "      <th>context/4</th>\n",
       "      <th>context/5</th>\n",
       "    </tr>\n",
       "  </thead>\n",
       "  <tbody>\n",
       "    <tr>\n",
       "      <th>320</th>\n",
       "      <td>Man, I missed having hands and blood and a sto...</td>\n",
       "      <td>Weird breed.</td>\n",
       "      <td>Jesus. Jesus Christ. Therapists, man.</td>\n",
       "      <td>Eh.</td>\n",
       "      <td>Oh, my God, yes! Dad, it's in my purse. Oh, I'...</td>\n",
       "      <td>Sweetie, could I get Get that syringe now?</td>\n",
       "      <td>Are we gonna go back?</td>\n",
       "      <td>Well, there was so much more at stake. I mean,...</td>\n",
       "    </tr>\n",
       "    <tr>\n",
       "      <th>241</th>\n",
       "      <td>A sequel.</td>\n",
       "      <td>Fine!  Excuse me. Coming through. What are you...</td>\n",
       "      <td>Go in the waiting room, Dad.</td>\n",
       "      <td>What? Every hospital claims to have the best d...</td>\n",
       "      <td>Is he going to die?</td>\n",
       "      <td>Alright fine, but you're not touching my CRISPR.</td>\n",
       "      <td>You're overreacting!</td>\n",
       "      <td>Not anymore.</td>\n",
       "    </tr>\n",
       "    <tr>\n",
       "      <th>358</th>\n",
       "      <td>Is there coffee? Hey, Morty, can you be a pal?...</td>\n",
       "      <td>Man, fuck you.</td>\n",
       "      <td>Really? You don't say. You would have used a g...</td>\n",
       "      <td>I could've just used a ghost train.</td>\n",
       "      <td>Hey, I can't help if I can't see.</td>\n",
       "      <td>RICK!</td>\n",
       "      <td>Uh, my God, that's better.</td>\n",
       "      <td>Uh-huh.</td>\n",
       "    </tr>\n",
       "    <tr>\n",
       "      <th>102</th>\n",
       "      <td>Oh, no, Morty. His subconscious is panicking.</td>\n",
       "      <td>Mrs. Pancakes! AAAAAAAAHHHH!!!!!</td>\n",
       "      <td>Because we're both rational adults that don't ...</td>\n",
       "      <td>Goldenfold, we're coming out! We just want to ...</td>\n",
       "      <td>Hmm?</td>\n",
       "      <td>I should call Bob Saget. Is that still a thing?</td>\n",
       "      <td>He's saying \"I love Obama\".  So cute! I'm post...</td>\n",
       "      <td>Ooooyayawawa!</td>\n",
       "    </tr>\n",
       "    <tr>\n",
       "      <th>179</th>\n",
       "      <td>Ah, God, gross and weird!</td>\n",
       "      <td>I cannot argue that.</td>\n",
       "      <td>Alright, hear me out on this. You're immortal,...</td>\n",
       "      <td>You really think I'm that stupid?</td>\n",
       "      <td>What if I told you there's a huge ticket up ri...</td>\n",
       "      <td>You think I wanna be an omniscient immortal be...</td>\n",
       "      <td>Why are you doing this?</td>\n",
       "      <td>Uh-huh, no motha- no, Earth, dude, I'm talking...</td>\n",
       "    </tr>\n",
       "    <tr>\n",
       "      <th>101</th>\n",
       "      <td>Because we're both rational adults that don't ...</td>\n",
       "      <td>Goldenfold, we're coming out! We just want to ...</td>\n",
       "      <td>Hmm?</td>\n",
       "      <td>I should call Bob Saget. Is that still a thing?</td>\n",
       "      <td>He's saying \"I love Obama\".  So cute! I'm post...</td>\n",
       "      <td>Ooooyayawawa!</td>\n",
       "      <td>Aw, he's saying \"I love lasagna\".</td>\n",
       "      <td>Aaaawwaaaaawaawa!</td>\n",
       "    </tr>\n",
       "  </tbody>\n",
       "</table>\n",
       "</div>"
      ],
      "text/plain": [
       "                                              response  \\\n",
       "320  Man, I missed having hands and blood and a sto...   \n",
       "241                                          A sequel.   \n",
       "358  Is there coffee? Hey, Morty, can you be a pal?...   \n",
       "102      Oh, no, Morty. His subconscious is panicking.   \n",
       "179                          Ah, God, gross and weird!   \n",
       "101  Because we're both rational adults that don't ...   \n",
       "\n",
       "                                               context  \\\n",
       "320                                       Weird breed.   \n",
       "241  Fine!  Excuse me. Coming through. What are you...   \n",
       "358                                     Man, fuck you.   \n",
       "102                   Mrs. Pancakes! AAAAAAAAHHHH!!!!!   \n",
       "179                               I cannot argue that.   \n",
       "101  Goldenfold, we're coming out! We just want to ...   \n",
       "\n",
       "                                             context/0  \\\n",
       "320              Jesus. Jesus Christ. Therapists, man.   \n",
       "241                       Go in the waiting room, Dad.   \n",
       "358  Really? You don't say. You would have used a g...   \n",
       "102  Because we're both rational adults that don't ...   \n",
       "179  Alright, hear me out on this. You're immortal,...   \n",
       "101                                               Hmm?   \n",
       "\n",
       "                                             context/1  \\\n",
       "320                                                Eh.   \n",
       "241  What? Every hospital claims to have the best d...   \n",
       "358                I could've just used a ghost train.   \n",
       "102  Goldenfold, we're coming out! We just want to ...   \n",
       "179                  You really think I'm that stupid?   \n",
       "101    I should call Bob Saget. Is that still a thing?   \n",
       "\n",
       "                                             context/2  \\\n",
       "320  Oh, my God, yes! Dad, it's in my purse. Oh, I'...   \n",
       "241                                Is he going to die?   \n",
       "358                  Hey, I can't help if I can't see.   \n",
       "102                                               Hmm?   \n",
       "179  What if I told you there's a huge ticket up ri...   \n",
       "101  He's saying \"I love Obama\".  So cute! I'm post...   \n",
       "\n",
       "                                             context/3  \\\n",
       "320         Sweetie, could I get Get that syringe now?   \n",
       "241   Alright fine, but you're not touching my CRISPR.   \n",
       "358                                              RICK!   \n",
       "102    I should call Bob Saget. Is that still a thing?   \n",
       "179  You think I wanna be an omniscient immortal be...   \n",
       "101                                      Ooooyayawawa!   \n",
       "\n",
       "                                             context/4  \\\n",
       "320                              Are we gonna go back?   \n",
       "241                               You're overreacting!   \n",
       "358                         Uh, my God, that's better.   \n",
       "102  He's saying \"I love Obama\".  So cute! I'm post...   \n",
       "179                            Why are you doing this?   \n",
       "101                  Aw, he's saying \"I love lasagna\".   \n",
       "\n",
       "                                             context/5  \n",
       "320  Well, there was so much more at stake. I mean,...  \n",
       "241                                       Not anymore.  \n",
       "358                                            Uh-huh.  \n",
       "102                                      Ooooyayawawa!  \n",
       "179  Uh-huh, no motha- no, Earth, dude, I'm talking...  \n",
       "101                                  Aaaawwaaaaawaawa!  "
      ]
     },
     "execution_count": 22,
     "metadata": {},
     "output_type": "execute_result"
    }
   ],
   "source": [
    "df.sample(6)"
   ]
  },
  {
   "cell_type": "code",
   "execution_count": 23,
   "metadata": {},
   "outputs": [
    {
     "name": "stdout",
     "output_type": "stream",
     "text": [
      "                                              response  \\\n",
      "290                   Good job, Morty. Let's go, kids.   \n",
      "151  Morty, hand me that screwdriver, huh?  I'm alm...   \n",
      "38                 Okay, hold on just a second, Morty.   \n",
      "368  Look, I'm a lit-- little more complex than you...   \n",
      "133                         Psst, Beth, Jerry, Summer.   \n",
      "\n",
      "                                               context  \\\n",
      "290  That was amazing, Morty. Oh, my God. Wow. Okay...   \n",
      "151       Yeah, I'm just going to...check on your mom.   \n",
      "38   Are you kidding me?! That's it, Rick! That's t...   \n",
      "368  Obviously? You came here and defeated our arch...   \n",
      "133                   This is why I choose to get C's.   \n",
      "\n",
      "                                             context/0  \\\n",
      "290                       Morty, we just got him back!   \n",
      "151  Alright, well, I'm gonna go get dressed for th...   \n",
      "38   Yeah, I can see that. But do you think you'll ...   \n",
      "368  Obviously, I came here last night during a bla...   \n",
      "133  I can't believe how mean snuffles got just bec...   \n",
      "\n",
      "                                             context/1  \\\n",
      "290                          Who's stupid now, bitch?!   \n",
      "151  Listen, Morty, I hate to break it to you, but ...   \n",
      "38                         I'm in a lot of pain, Rick!   \n",
      "368                      Rick? What's going on, buddy?   \n",
      "133  Well, it's possible that your dog became self-...   \n",
      "\n",
      "                                             context/2  \\\n",
      "290  You're a serious fuckin' idiot, Morty! You bas...   \n",
      "151  Come on, Rick, don't talk about my parents lik...   \n",
      "38   Morty, oh, you really d-did a number on  your ...   \n",
      "368  If you guys are watching this, you're, you kno...   \n",
      "133                          Oh, man, what's going on?   \n",
      "\n",
      "                                             context/3  \\\n",
      "290                          Morty, you fucking idiot!   \n",
      "151  Jerry, it's your house, whatever you say it is...   \n",
      "38   Hello? Mrs. Smith? This is Principal Vagina, n...   \n",
      "368  Welp, it's official. I had too much to drink l...   \n",
      "133   Out of the frying pan dot, dot, dot, huh, Morty?   \n",
      "\n",
      "                                             context/4  \\\n",
      "290  I totally did, by the way. You're a fucking mo...   \n",
      "151                    My marriage is fine, thank you.   \n",
      "38                          Ahem, Horse heart surgeon.   \n",
      "368  Check, check, One, two. Okay, is it recording?...   \n",
      "133                                     What the hell?   \n",
      "\n",
      "                                             context/5  \n",
      "290            The point is he thought I was going to.  \n",
      "151  Sorry, please proceed with your story about ba...  \n",
      "38   Uh, yeah, maybe I am. I'm my father's daughter...  \n",
      "368            I sense the presence of a greater evil.  \n",
      "133  Holy crap! God damn! I know one thing for sure...  \n"
     ]
    }
   ],
   "source": [
    "train_df, val_df = train_test_split(df, test_size=0.1)\n",
    "print(train_df.head())\n"
   ]
  },
  {
   "cell_type": "code",
   "execution_count": null,
   "metadata": {},
   "outputs": [],
   "source": [
    "# Create dataset for model\n",
    "def construct_conversation(row, tokenizer, eos=True):\n",
    "    flatten = lambda line: "
   ]
  },
  {
   "cell_type": "markdown",
   "metadata": {},
   "source": [
    "## Build Model"
   ]
  },
  {
   "cell_type": "code",
   "execution_count": null,
   "metadata": {},
   "outputs": [
    {
     "data": {
      "application/vnd.jupyter.widget-view+json": {
       "model_id": "e08cacef4cfd4e69adb3d9add2defee0",
       "version_major": 2,
       "version_minor": 0
      },
      "text/plain": [
       "Downloading (…)okenizer_config.json:   0%|          | 0.00/26.0 [00:00<?, ?B/s]"
      ]
     },
     "metadata": {},
     "output_type": "display_data"
    },
    {
     "data": {
      "application/vnd.jupyter.widget-view+json": {
       "model_id": "df3f115ee2624377934397d0091740c3",
       "version_major": 2,
       "version_minor": 0
      },
      "text/plain": [
       "Downloading (…)lve/main/config.json:   0%|          | 0.00/641 [00:00<?, ?B/s]"
      ]
     },
     "metadata": {},
     "output_type": "display_data"
    },
    {
     "data": {
      "application/vnd.jupyter.widget-view+json": {
       "model_id": "ed40b0af45b74f07a22a5d87d1bf71a0",
       "version_major": 2,
       "version_minor": 0
      },
      "text/plain": [
       "Downloading (…)olve/main/vocab.json:   0%|          | 0.00/1.04M [00:00<?, ?B/s]"
      ]
     },
     "metadata": {},
     "output_type": "display_data"
    },
    {
     "data": {
      "application/vnd.jupyter.widget-view+json": {
       "model_id": "e166cf2c7f114bf7b3a0fd38f54e1344",
       "version_major": 2,
       "version_minor": 0
      },
      "text/plain": [
       "Downloading (…)olve/main/merges.txt:   0%|          | 0.00/456k [00:00<?, ?B/s]"
      ]
     },
     "metadata": {},
     "output_type": "display_data"
    },
    {
     "name": "stderr",
     "output_type": "stream",
     "text": [
      "/home/nvthanh/anaconda3/envs/work_env/lib/python3.9/site-packages/transformers/models/auto/modeling_auto.py:1362: FutureWarning: The class `AutoModelWithLMHead` is deprecated and will be removed in a future version. Please use `AutoModelForCausalLM` for causal language models, `AutoModelForMaskedLM` for masked language models and `AutoModelForSeq2SeqLM` for encoder-decoder models.\n",
      "  warnings.warn(\n"
     ]
    },
    {
     "data": {
      "application/vnd.jupyter.widget-view+json": {
       "model_id": "0da989f7c1f340ab990e088e30a12329",
       "version_major": 2,
       "version_minor": 0
      },
      "text/plain": [
       "Downloading pytorch_model.bin:   0%|          | 0.00/351M [00:00<?, ?B/s]"
      ]
     },
     "metadata": {},
     "output_type": "display_data"
    }
   ],
   "source": [
    "\n",
    "\n",
    "from transformers import AutoModelWithLMHead, AutoModelForCausalLM, AutoTokenizer\n",
    "import torch\n",
    "\n",
    "tokenizer = AutoTokenizer.from_pretrained(\"microsoft/DialoGPT-small\")\n",
    "model = AutoModelWithLMHead.from_pretrained(\"microsoft/DialoGPT-small\")\n",
    "\n"
   ]
  },
  {
   "cell_type": "code",
   "execution_count": null,
   "metadata": {},
   "outputs": [],
   "source": []
  }
 ],
 "metadata": {
  "kernelspec": {
   "display_name": "Python 3 (ipykernel)",
   "language": "python",
   "name": "python3"
  },
  "language_info": {
   "codemirror_mode": {
    "name": "ipython",
    "version": 3
   },
   "file_extension": ".py",
   "mimetype": "text/x-python",
   "name": "python",
   "nbconvert_exporter": "python",
   "pygments_lexer": "ipython3",
   "version": "3.9.13"
  }
 },
 "nbformat": 4,
 "nbformat_minor": 2
}
